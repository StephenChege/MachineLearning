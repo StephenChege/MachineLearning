{
 "cells": [
  {
   "cell_type": "markdown",
   "id": "1becc452",
   "metadata": {},
   "source": [
    "# **Pipelines**\n",
    "\n",
    "Pipelines are used to keep our preprocessing and modeling steps more organized by bundling them together.\n",
    "\n",
    "Creating a pipeline is done in 3 steps:\n",
    "* Define preprocess\n",
    "* Define model\n",
    "* Create and evaluate model"
   ]
  },
  {
   "cell_type": "code",
   "execution_count": 3,
   "id": "0f24cef9",
   "metadata": {},
   "outputs": [
    {
     "name": "stdout",
     "output_type": "stream",
     "text": [
      "Modules Loaded\n"
     ]
    }
   ],
   "source": [
    "# import modules/libraries\n",
    "import pandas as pd\n",
    "from sklearn.model_selection import train_test_split\n",
    "from sklearn.impute import SimpleImputer\n",
    "from sklearn.preprocessing import OneHotEncoder\n",
    "from sklearn.compose import ColumnTransformer\n",
    "from sklearn.pipeline import Pipeline\n",
    "from sklearn.ensemble import RandomForestRegressor\n",
    "from sklearn.metrics import mean_absolute_error\n",
    "print('Modules Loaded')"
   ]
  },
  {
   "cell_type": "markdown",
   "id": "e5b94b53",
   "metadata": {},
   "source": [
    "## **Prepare data**"
   ]
  },
  {
   "cell_type": "code",
   "execution_count": 6,
   "id": "c8eb80bb",
   "metadata": {},
   "outputs": [],
   "source": [
    "# Load data\n",
    "data = pd.read_csv(\"/home/vosti/machine_learning/csvs/melb_data.csv\")\n",
    "\n",
    "# Define features and targets\n",
    "X = data.drop(['Price'], axis=1)\n",
    "y = data.Price\n",
    "\n",
    "# Divide data into training and validation sets\n",
    "X_train, X_val, y_train, y_val = train_test_split(X, y, train_size=0.8, test_size=0.2, random_state=0)\n",
    "\n",
    "# Get categorical columns\n",
    "cat_cols = [col for col in X_train.columns if X_train[col].nunique() < 10 \n",
    "           and X_train[col].dtype == \"object\"]\n",
    "\n",
    "# Get numerical columns\n",
    "num_cols = [col for col in X_train.columns if X_train[col].dtype in ['int64', 'float64']]\n",
    "\n",
    "# Combine cols\n",
    "my_cols = cat_cols + num_cols\n",
    "new_X_train = X_train[my_cols].copy()\n",
    "new_X_val = X_val[my_cols].copy()"
   ]
  },
  {
   "cell_type": "markdown",
   "id": "2aeecaa2",
   "metadata": {},
   "source": [
    "## **Define Preprocess**\n",
    "\n",
    "For numerical columns with *missing values* we do imputation while for *categorical data* we do imputation and One-Hot Encoding. \n",
    "\n",
    "We use `ColumnTransformer` to bundle together handling of numerical and categorical data."
   ]
  },
  {
   "cell_type": "code",
   "execution_count": 8,
   "id": "aa0a8a28",
   "metadata": {},
   "outputs": [
    {
     "data": {
      "text/plain": [
       "ColumnTransformer(transformers=[('imputation',\n",
       "                                 SimpleImputer(strategy='constant'),\n",
       "                                 ['Rooms', 'Distance', 'Postcode', 'Bedroom2',\n",
       "                                  'Bathroom', 'Car', 'Landsize', 'BuildingArea',\n",
       "                                  'YearBuilt', 'Lattitude', 'Longtitude',\n",
       "                                  'Propertycount']),\n",
       "                                ('cat',\n",
       "                                 Pipeline(steps=[('imp',\n",
       "                                                  SimpleImputer(strategy='most_frequent')),\n",
       "                                                 ('ohe',\n",
       "                                                  OneHotEncoder(handle_unknown='ignore'))]),\n",
       "                                 ['Type', 'Method', 'Regionname'])])"
      ]
     },
     "execution_count": 8,
     "metadata": {},
     "output_type": "execute_result"
    }
   ],
   "source": [
    "# numerical transformer\n",
    "num_trans = SimpleImputer(strategy=\"constant\")\n",
    "\n",
    "# Categorical data\n",
    "cat_trans = Pipeline(steps=[('imp', SimpleImputer(strategy=\"most_frequent\")), \n",
    "                           ('ohe', OneHotEncoder(handle_unknown='ignore'))])\n",
    "\n",
    "# Bundle handling of numerical and Categorical data\n",
    "pre_processor = ColumnTransformer(transformers=[('imputation', num_trans, num_cols),\n",
    "                                               ('cat', cat_trans, cat_cols)])\n",
    "pre_processor"
   ]
  },
  {
   "cell_type": "markdown",
   "id": "2bed46d7",
   "metadata": {},
   "source": [
    "## **Define Model**"
   ]
  },
  {
   "cell_type": "code",
   "execution_count": 9,
   "id": "e6e33672",
   "metadata": {},
   "outputs": [],
   "source": [
    "model = RandomForestRegressor(n_estimators=100, random_state=0)"
   ]
  },
  {
   "cell_type": "markdown",
   "id": "e30e883d",
   "metadata": {},
   "source": [
    "## **Create and Evaluate Pipeline**\n",
    "\n",
    "We bundle together the preprocessing and modeling steps using a `Pipeline`"
   ]
  },
  {
   "cell_type": "code",
   "execution_count": 13,
   "id": "ac876e66",
   "metadata": {},
   "outputs": [
    {
     "name": "stdout",
     "output_type": "stream",
     "text": [
      "The MAE is:  160679.18917034855\n"
     ]
    }
   ],
   "source": [
    "# create pipeline\n",
    "my_pipeline = Pipeline(steps=[('preprocess', pre_processor), ('model', model)])\n",
    "\n",
    "# fit data\n",
    "my_pipeline.fit(new_X_train, y_train)\n",
    "\n",
    "# predict \n",
    "predict = my_pipeline.predict(new_X_val)\n",
    "\n",
    "# Get MAE\n",
    "score = mean_absolute_error(y_val, predict)\n",
    "print(\"The MAE is: \", score)"
   ]
  }
 ],
 "metadata": {
  "kernelspec": {
   "display_name": "Python 3",
   "language": "python",
   "name": "python3"
  },
  "language_info": {
   "codemirror_mode": {
    "name": "ipython",
    "version": 3
   },
   "file_extension": ".py",
   "mimetype": "text/x-python",
   "name": "python",
   "nbconvert_exporter": "python",
   "pygments_lexer": "ipython3",
   "version": "3.8.8"
  }
 },
 "nbformat": 4,
 "nbformat_minor": 5
}
